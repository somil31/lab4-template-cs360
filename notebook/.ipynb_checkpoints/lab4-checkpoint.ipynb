{
 "cells": [
  {
   "cell_type": "markdown",
   "id": "56679e3b",
   "metadata": {},
   "source": [
    "# Lab 4\n",
    "\n",
    "- Name:\n",
    "- USC Id:"
   ]
  },
  {
   "cell_type": "markdown",
   "id": "fbecefcf",
   "metadata": {},
   "source": [
    "### 1. Gene expression cancer RNA-Seq"
   ]
  },
  {
   "cell_type": "markdown",
   "id": "0fd52d0d",
   "metadata": {},
   "source": [
    "Package Imports"
   ]
  },
  {
   "cell_type": "code",
   "execution_count": null,
   "id": "39fc2b0e",
   "metadata": {},
   "outputs": [],
   "source": [
    "import pandas as pd\n",
    "import numpy as np\n",
    "from sklearn.preprocessing import OrdinalEncoder\n",
    "from sklearn.naive_bayes import GaussianNB\n",
    "from sklearn.metrics import accuracy_score\n",
    "from sklearn.naive_bayes import BernoulliNB\n",
    "from sklearn.naive_bayes import CategoricalNB\n",
    "\n",
    "# ===== Optional : import other libraries here ===== #\n",
    "\n",
    "# ===== End of Optional : import other libraries here ===== #"
   ]
  },
  {
   "cell_type": "markdown",
   "id": "8f15b217",
   "metadata": {},
   "source": [
    "### Problem 1 (a) Load the files data.csv and labels.csv\n",
    "\n",
    "- They contain the Data Set from: https://archive.ics.uci.edu/dataset/401/gene+expression+cancer+rna+seq\n",
    "\n",
    "- data.csv contains the genetic features for each tumor and labels.csv contains the label of each tumor. After loading the datasets, combine the data sets into a single dataframe."
   ]
  },
  {
   "cell_type": "code",
   "execution_count": null,
   "id": "22f87367",
   "metadata": {},
   "outputs": [],
   "source": [
    "data = None\n",
    "# ===== Read the data.csv file ===== #\n",
    "\n",
    "# ===== End of reading data.csv file ===== #\n"
   ]
  },
  {
   "cell_type": "code",
   "execution_count": null,
   "id": "f241ed25",
   "metadata": {},
   "outputs": [],
   "source": [
    "data.head()"
   ]
  },
  {
   "cell_type": "code",
   "execution_count": null,
   "id": "447918e9",
   "metadata": {},
   "outputs": [],
   "source": []
  },
  {
   "cell_type": "code",
   "execution_count": null,
   "id": "21a4786b",
   "metadata": {},
   "outputs": [],
   "source": [
    "labels = None\n",
    "\n",
    "# ===== Read the labels.csv file ===== #\n",
    "\n",
    "# ===== End of reading labels.csv file ===== #\n"
   ]
  },
  {
   "cell_type": "code",
   "execution_count": null,
   "id": "00adc414",
   "metadata": {},
   "outputs": [],
   "source": [
    "labels"
   ]
  },
  {
   "cell_type": "code",
   "execution_count": null,
   "id": "f69a227f",
   "metadata": {},
   "outputs": [],
   "source": [
    "print('Class label counts:')\n",
    "labels['Class'].value_counts()"
   ]
  },
  {
   "cell_type": "code",
   "execution_count": null,
   "id": "64f8f6fc",
   "metadata": {},
   "outputs": [],
   "source": [
    "# Test 1 (a)\n",
    "\n",
    "assert(data.shape == (801, 20531))\n",
    "assert(labels.shape == (801,1))\n",
    "\n",
    "print('Test 1(a) Passed.')"
   ]
  },
  {
   "cell_type": "markdown",
   "id": "763a5b34",
   "metadata": {},
   "source": [
    "### Problem 1 (b): Exploratory data analysis\n",
    "- Select the first 640 instances as the training set and the rest of the data as the test set.\n",
    "- Encode the classes as follows BRCA = 0, KIRC = 1, COAD = 2, LUAD = 3, and PRAD = 4. You can use Ordinal Encoder."
   ]
  },
  {
   "cell_type": "code",
   "execution_count": null,
   "id": "2bbefdbe",
   "metadata": {},
   "outputs": [],
   "source": [
    "\n",
    "training_data, training_class = None, None\n",
    "test_data, test_class = None, None\n",
    "\n",
    "# ===== split data and labels into test and train ===== #\n",
    "\n",
    "# ===== End of split data and labels into test and train ===== #\n",
    "\n",
    "\n",
    "\n",
    "# ===== Use Ordinal Encoder to encode the classes ===== #\n",
    "\n",
    "# ===== End of Use Ordinal Encoder to encode the classes ===== #\n"
   ]
  },
  {
   "cell_type": "code",
   "execution_count": null,
   "id": "4d75e976",
   "metadata": {},
   "outputs": [],
   "source": [
    "test_data"
   ]
  },
  {
   "cell_type": "code",
   "execution_count": null,
   "id": "ee834e8f",
   "metadata": {},
   "outputs": [],
   "source": [
    "# Test 1 (b)\n",
    "\n",
    "assert(training_data.shape[0] == 640 and training_data.shape[1] == 20531)\n",
    "assert(test_data.shape[0] == 161 and test_data.shape[1] == 20531)\n",
    "assert(training_class.shape[0] == 640)\n",
    "assert(test_class.shape[0] == 161)\n",
    "\n",
    "print(f\"Test 1(b) Passed\")"
   ]
  },
  {
   "cell_type": "code",
   "execution_count": null,
   "id": "0c7329a8",
   "metadata": {},
   "outputs": [],
   "source": [
    "training_class"
   ]
  },
  {
   "cell_type": "code",
   "execution_count": null,
   "id": "08562817",
   "metadata": {},
   "outputs": [],
   "source": [
    "test_class"
   ]
  },
  {
   "cell_type": "markdown",
   "id": "a021c7ef",
   "metadata": {},
   "source": [
    "### Problem 1 (c) Classification using Gaussian Naive Bayes\n",
    "\n",
    "- Use sklearn’s Gaussian Naive Bayes method to build a classifier based on training data. Report the training misclassification error rate (the percentage of training data that are misclassified)\n",
    "\n",
    "- Use sklearn’s Gaussian Naive Bayes method to classify test data, using the model you developed in 1(c). Report test misclassification error rate (the percentage of training data that are misclassified)."
   ]
  },
  {
   "cell_type": "code",
   "execution_count": null,
   "id": "248c9332",
   "metadata": {},
   "outputs": [],
   "source": [
    "# ===== Train Gaussian NB model ===== #\n",
    "\n",
    "# ===== End of Train Gaussian NB model ===== #\n",
    "\n",
    "training_misclassification_rate = None\n",
    "\n",
    "# ===== Use the model to predict labels for the training data ===== #\n",
    "\n",
    "# ===== End of Use the model to predict labels for the training data ===== #\n",
    "\n",
    "print(f\">>> Gaussian NB\")\n",
    "print(f\"Training Misclassification Rate: {training_misclassification_rate}\")"
   ]
  },
  {
   "cell_type": "code",
   "execution_count": null,
   "id": "96aada64",
   "metadata": {},
   "outputs": [],
   "source": [
    "test_misclassification_rate = None\n",
    "\n",
    "# ===== Use the model to predict labels for the test data ===== #\n",
    "\n",
    "\n",
    "# ===== End of Use the model to predict labels for the test data ===== #\n",
    "\n",
    "print(f\">>> Gaussian NB\")\n",
    "print(f\"Test Misclassification Rate: {test_misclassification_rate}\")\n",
    "\n",
    "\n"
   ]
  },
  {
   "cell_type": "markdown",
   "id": "ce9fbd87",
   "metadata": {},
   "source": [
    "### Ploblem 1 (d): Classification using Bernoulli Naive Bayes\n",
    "\n",
    "- Calculate the median of each of the gene features. Binarize the features: any feature greater or equal than the median of that feature must be converted to 1 and any feature less than or equal to the median must be converted to zero. (5 pts)\n",
    "\n",
    "- Use sklearn’s Bernoulli Na ̈ıve Bayes method with Laplace Smoothing To build a classifier based on binarized training data. Report the training misclassification error rate (the percentage of training data that are misclassified). (20 pts)\n",
    "\n",
    "- Use sklearn’s Bernoulli Na ̈ıve Bayes method to classify test data, using the model you developed in 1(d)ii. Report test misclassification error rate (the percentage of training data that are misclassified). (20 pts)"
   ]
  },
  {
   "cell_type": "code",
   "execution_count": null,
   "id": "a1ce71a1",
   "metadata": {},
   "outputs": [],
   "source": [
    "binarized_data = None\n",
    "binarized_training_data = None\n",
    "binarized_test_data = None\n",
    "\n",
    "# ===== Calculate the medians for each feature in the trainind data and binarize the values for each column  ===== #\n",
    "\n",
    "# ===== End of Calculate the medians for each feature and binarize the values for each column  ===== #"
   ]
  },
  {
   "cell_type": "code",
   "execution_count": null,
   "id": "c3e684eb",
   "metadata": {},
   "outputs": [],
   "source": [
    "binarized_training_data.head()"
   ]
  },
  {
   "cell_type": "code",
   "execution_count": null,
   "id": "34479a5b",
   "metadata": {},
   "outputs": [],
   "source": [
    "binarized_test_data"
   ]
  },
  {
   "cell_type": "code",
   "execution_count": null,
   "id": "6dd0ea7b",
   "metadata": {},
   "outputs": [],
   "source": [
    "# Test\n",
    "\n",
    "assert (binarized_training_data.shape == (640,20531))\n",
    "assert (binarized_test_data.shape == (161,20531))\n",
    "assert (len(binarized_training_data['gene_1'].value_counts()) == 2)\n",
    "\n",
    "print('Test Passed')"
   ]
  },
  {
   "cell_type": "code",
   "execution_count": null,
   "id": "76bf2e9f",
   "metadata": {},
   "outputs": [],
   "source": []
  },
  {
   "cell_type": "code",
   "execution_count": null,
   "id": "ffc5f86c",
   "metadata": {},
   "outputs": [],
   "source": [
    "# ===== Train Bernoulli NB model ===== #\n",
    "\n",
    "# ===== End of Train Bernoulli NB model ===== #\n",
    "\n",
    "training_misclassification_rate = None\n",
    "\n",
    "# ===== Use the model to predict labels for the training data ===== #\n",
    "\n",
    "\n",
    "# ===== End of Use the model to predict labels for the training data ===== #\n",
    "\n",
    "print(f\">>> Bernoulli NB\")\n",
    "print(f\"Training Misclassification Rate: {training_misclassification_rate}\")"
   ]
  },
  {
   "cell_type": "code",
   "execution_count": null,
   "id": "a8a57849",
   "metadata": {},
   "outputs": [],
   "source": [
    "\n",
    "test_misclassification_rate = None\n",
    "\n",
    "# ===== Use the model to predict labels for the test data ===== #\n",
    "\n",
    "\n",
    "# ===== End of Use the model to predict labels for the test data ===== #\n",
    "\n",
    "print(f\">>> Bernoulli NB\")\n",
    "print(f\"Test Misclassification Rate: {test_misclassification_rate}\")"
   ]
  },
  {
   "cell_type": "markdown",
   "id": "3f9c0799",
   "metadata": {},
   "source": [
    "### 2. Extra Credit: Categorical Naive Bayes\n",
    "\n",
    "Create 10 equally spaced bins between the maximum and minimum of each feature in the training set and convert the features to categorical training data using those bins. Convert the test data based on the bins you calculated for training data into categorical features."
   ]
  },
  {
   "cell_type": "code",
   "execution_count": null,
   "id": "5365a415",
   "metadata": {},
   "outputs": [],
   "source": [
    "binned_training_data = pd.DataFrame()\n",
    "binned_test_data = pd.DataFrame()\n",
    "\n",
    "# Hint: Use np.linpsace to create bin boundaries and pd.cut to segregate data into the bins\n",
    "# ===== For each feature create 10 bins using the training data and convert test and train data into categorical values  ===== #\n",
    "    \n",
    "# ===== End of For each feature create 10 bins using the training data and convert test and train data into categorical values  ===== #"
   ]
  },
  {
   "cell_type": "code",
   "execution_count": null,
   "id": "1bdd7db5",
   "metadata": {},
   "outputs": [],
   "source": []
  },
  {
   "cell_type": "code",
   "execution_count": null,
   "id": "3aeec55a",
   "metadata": {},
   "outputs": [],
   "source": []
  },
  {
   "cell_type": "code",
   "execution_count": null,
   "id": "3a7b2cc5",
   "metadata": {},
   "outputs": [],
   "source": [
    "# ===== Train Categorical NB model ===== #\n",
    "\n",
    "\n",
    "# ===== End of Train Categorical NB model ===== #"
   ]
  },
  {
   "cell_type": "code",
   "execution_count": null,
   "id": "7852fc2b",
   "metadata": {},
   "outputs": [],
   "source": [
    "training_misclassification_rate = None\n",
    "\n",
    "# ===== Use the model to predict labels for the training data ===== #\n",
    "\n",
    "# ===== End of Use the model to predict labels for the training data ===== #\n",
    "\n",
    "print(f\">>> Categorical NB\")\n",
    "print(f\"Training Misclassification Rate: {training_misclassification_rate}\")"
   ]
  },
  {
   "cell_type": "code",
   "execution_count": null,
   "id": "fbe2579f",
   "metadata": {},
   "outputs": [],
   "source": [
    "test_misclassification_rate = None\n",
    "\n",
    "# ===== Use the model to predict labels for the test data ===== #\n",
    "\n",
    "# ===== End of Use the model to predict labels for the test data ===== #\n",
    "\n",
    "print(f\">>> Categorical NB\")\n",
    "print(f\"Test Misclassification Rate: {test_misclassification_rate}\")"
   ]
  },
  {
   "cell_type": "code",
   "execution_count": null,
   "id": "d8977ea1",
   "metadata": {},
   "outputs": [],
   "source": []
  }
 ],
 "metadata": {
  "kernelspec": {
   "display_name": "Python 3 (ipykernel)",
   "language": "python",
   "name": "python3"
  },
  "language_info": {
   "codemirror_mode": {
    "name": "ipython",
    "version": 3
   },
   "file_extension": ".py",
   "mimetype": "text/x-python",
   "name": "python",
   "nbconvert_exporter": "python",
   "pygments_lexer": "ipython3",
   "version": "3.7.3"
  }
 },
 "nbformat": 4,
 "nbformat_minor": 5
}
